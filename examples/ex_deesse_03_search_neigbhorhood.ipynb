{
 "cells": [
  {
   "cell_type": "markdown",
   "metadata": {},
   "source": [
    "# MPS using the deesse wrapper - custom search neighborhood\n",
    "\n",
    "## Main points addressed:\n",
    "- setting custom search ellipsoid"
   ]
  },
  {
   "cell_type": "markdown",
   "metadata": {},
   "source": [
    "## Import what is required"
   ]
  },
  {
   "cell_type": "code",
   "execution_count": 1,
   "metadata": {},
   "outputs": [],
   "source": [
    "import numpy as np\n",
    "import matplotlib.pyplot as plt\n",
    "\n",
    "# import package 'geone'\n",
    "import geone as gn"
   ]
  },
  {
   "cell_type": "markdown",
   "metadata": {},
   "source": [
    "## Training image (TI)\n",
    "Read the training image."
   ]
  },
  {
   "cell_type": "code",
   "execution_count": 2,
   "metadata": {},
   "outputs": [],
   "source": [
    "ti = gn.img.readImageGslib('ti.gslib')"
   ]
  },
  {
   "cell_type": "markdown",
   "metadata": {},
   "source": [
    "Plot the image using the function `gn.imgplot.drawImage2D`."
   ]
  },
  {
   "cell_type": "code",
   "execution_count": 3,
   "metadata": {},
   "outputs": [
    {
     "data": {
      "image/png": "[encoded data removed]",
      "text/plain": [
       "<Figure size 360x360 with 2 Axes>"
      ]
     },
     "metadata": {
      "needs_background": "light"
     },
     "output_type": "display_data"
    }
   ],
   "source": [
    "col = ['lightblue', 'darkgreen', 'orange']\n",
    "\n",
    "plt.figure(figsize=(5,5))\n",
    "gn.imgplot.drawImage2D(ti, categ=True, categCol=col, title='TI')\n",
    "plt.show()"
   ]
  },
  {
   "cell_type": "markdown",
   "metadata": {},
   "source": [
    "## Custom search ellipsoid \n",
    "### Class `geone.deesseinterface.SearchNeighborhoodParameters`\n",
    "To simulate a cell in the simulation grid, the pattern made up of (at most) the `nneighboringNode` informed cells the closest to the simulated cell is retrieved. Only the cells within a search ellipsoid centered at the simulated cell are considered. The search ellipsoid is defined by\n",
    "- `rx`, `ry`, `rz`: radii in each direction, in number of cells,\n",
    "- `ax`, `ay`, `az`: anisotropy ratios (or inverse units): the distance to the central node is the Euclidean distance with cell unit: `1/ax` by `1/ay` by `1/az`\n",
    "- `angle1`, `angle2`, `angle3`: azimuth, dip, and plunge angles in degrees (default:`0`, `0`, `0`) to re-orient the search ellipsoid\n",
    "- `power`: a power (default: `0`) at which the distance to the central cell is raised, to get the weight of the pattern cells\n",
    "\n",
    "Several modes are available to set the radii (`radiusMode`), in particular:\n",
    "- `large_default` (default): large radii automatically computed according to the size of the simulation grid and the TI\n",
    "- `manual`: the parameters `rx`, `ry`, `rz` are required (set manually)\n",
    "\n",
    "Several modes are available to set the anisotropy ratios (`anisotropyRatioMode`), in particular:\n",
    "- `one` (default): anisotropy ratios automatically set to `ax=ay=az=1.0`\n",
    "- `radius`: anisotropy ratios automatically set to the corresponding radius, `ax=rx`, `ay=ry`, `az=rz`, so that the distance on the border of the search ellipsoid is equal to one\n",
    "- `manual`: `ax`, `ay`, `az` are required (set manually)\n",
    "\n",
    "**Notes:** \n",
    "- It can be useful to limit the size of the search ellipsoid (by setting the radii) in presence of a small hard data set, in order to avoid realizations with too poor variability.\n",
    "- It can be useful to set the anisotropy ratios manually to preferentially search in some direction(s) when retrieving the pattern for simulating a cell."
   ]
  },
  {
   "cell_type": "markdown",
   "metadata": {},
   "source": [
    "### Examples using different search neigbhorhood ellipsoids"
   ]
  },
  {
   "cell_type": "markdown",
   "metadata": {},
   "source": [
    "#### Simulation with default search ellipsoid"
   ]
  },
  {
   "cell_type": "code",
   "execution_count": 4,
   "metadata": {},
   "outputs": [
    {
     "name": "stdout",
     "output_type": "stream",
     "text": [
      "DeeSse running... [VERSION 3.2 / BUILD NUMBER 20210922 / OpenMP 7 thread(s)]\n",
      "* checking out license OK.\n",
      "DeeSse run complete\n"
     ]
    }
   ],
   "source": [
    "# Default search ellipsoid\n",
    "deesse_input = gn.deesseinterface.DeesseInput(\n",
    "    nx=100, ny=100, nz=1,\n",
    "    nv=1, varname='code',\n",
    "    nTI=1, TI=ti,\n",
    "    distanceType='categorical',\n",
    "    nneighboringNode=24,\n",
    "    distanceThreshold=0.05,\n",
    "    maxScanFraction=0.25,\n",
    "    npostProcessingPathMax=1,\n",
    "    seed=444,\n",
    "    nrealization=1)\n",
    "\n",
    "deesse_output1 = gn.deesseinterface.deesseRun(deesse_input)"
   ]
  },
  {
   "cell_type": "markdown",
   "metadata": {},
   "source": [
    "#### Simulation with small search ellipsoid by setting the radii manually"
   ]
  },
  {
   "cell_type": "code",
   "execution_count": 5,
   "metadata": {},
   "outputs": [
    {
     "name": "stdout",
     "output_type": "stream",
     "text": [
      "DeeSse running... [VERSION 3.2 / BUILD NUMBER 20210922 / OpenMP 7 thread(s)]\n",
      "* checking out license OK.\n",
      "DeeSse run complete\n"
     ]
    }
   ],
   "source": [
    "# Search ellipsoid with small radii\n",
    "snp = gn.deesseinterface.SearchNeighborhoodParameters(\n",
    "    radiusMode='manual', rx=10, ry=10, rz=0\n",
    ")\n",
    "\n",
    "deesse_input = gn.deesseinterface.DeesseInput(\n",
    "    nx=100, ny=100, nz=1,\n",
    "    nv=1, varname='code',\n",
    "    nTI=1, TI=ti,\n",
    "    distanceType='categorical',\n",
    "    searchNeighborhoodParameters = snp, # set search neighborhood parameters (ellipsoid)\n",
    "    nneighboringNode=24,\n",
    "    distanceThreshold=0.05,\n",
    "    maxScanFraction=0.25,\n",
    "    npostProcessingPathMax=1,\n",
    "    seed=444,\n",
    "    nrealization=1)\n",
    "\n",
    "deesse_output2 = gn.deesseinterface.deesseRun(deesse_input)"
   ]
  },
  {
   "cell_type": "markdown",
   "metadata": {},
   "source": [
    "#### Simulation with anisotropic search ellipsoid (preferential search in one direction)"
   ]
  },
  {
   "cell_type": "code",
   "execution_count": 6,
   "metadata": {},
   "outputs": [
    {
     "name": "stdout",
     "output_type": "stream",
     "text": [
      "DeeSse running... [VERSION 3.2 / BUILD NUMBER 20210922 / OpenMP 7 thread(s)]\n",
      "* checking out license OK.\n",
      "DeeSse run complete\n"
     ]
    }
   ],
   "source": [
    "# Anisotropic search ellipsoid with preferential search in x-direction\n",
    "snp = gn.deesseinterface.SearchNeighborhoodParameters(\n",
    "    anisotropyRatioMode='manual', ax=20, ay=1, az=1\n",
    ")\n",
    "\n",
    "deesse_input = gn.deesseinterface.DeesseInput(\n",
    "    nx=100, ny=100, nz=1,\n",
    "    nv=1, varname='code',\n",
    "    nTI=1, TI=ti,\n",
    "    distanceType='categorical',\n",
    "    searchNeighborhoodParameters = snp, # set search neighborhood parameters (ellipsoid)\n",
    "    nneighboringNode=24,\n",
    "    distanceThreshold=0.05,\n",
    "    maxScanFraction=0.25,\n",
    "    npostProcessingPathMax=1,\n",
    "    seed=444,\n",
    "    nrealization=1)\n",
    "\n",
    "deesse_output3 = gn.deesseinterface.deesseRun(deesse_input)"
   ]
  },
  {
   "cell_type": "markdown",
   "metadata": {},
   "source": [
    "#### Results and display"
   ]
  },
  {
   "cell_type": "code",
   "execution_count": 7,
   "metadata": {},
   "outputs": [
    {
     "data": {
      "image/png": "[encoded data removed]",
      "text/plain": [
       "<Figure size 1224x360 with 6 Axes>"
      ]
     },
     "metadata": {
      "needs_background": "light"
     },
     "output_type": "display_data"
    }
   ],
   "source": [
    "# Retrieve the realizations\n",
    "sim1 = deesse_output1['sim']\n",
    "sim2 = deesse_output2['sim']\n",
    "sim3 = deesse_output3['sim']\n",
    "\n",
    "# Display\n",
    "plt.subplots(1, 3, figsize=(17,5)) # 1 x 3 sub-plots\n",
    "\n",
    "plt.subplot(1, 3, 1)\n",
    "gn.imgplot.drawImage2D(sim1[0], categ=True, categCol=col, title='Sim, default search ellipsoid') # plot real\n",
    "\n",
    "plt.subplot(1, 3, 2)\n",
    "gn.imgplot.drawImage2D(sim2[0], categ=True, categCol=col, title='Sim, small search ellipsoid') # plot real\n",
    "\n",
    "plt.subplot(1, 3, 3)\n",
    "gn.imgplot.drawImage2D(sim3[0], categ=True, categCol=col, title='Sim, anisotropic search ellipsoid') # plot real\n",
    "\n",
    "plt.show()"
   ]
  }
 ],
 "metadata": {
  "kernelspec": {
   "display_name": "Python 3 (ipykernel)",
   "language": "python",
   "name": "python3"
  },
  "language_info": {
   "codemirror_mode": {
    "name": "ipython",
    "version": 3
   },
   "file_extension": ".py",
   "mimetype": "text/x-python",
   "name": "python",
   "nbconvert_exporter": "python",
   "pygments_lexer": "ipython3",
   "version": "3.8.11"
  }
 },
 "nbformat": 4,
 "nbformat_minor": 2
}
