{
 "cells": [
  {
   "cell_type": "markdown",
   "metadata": {},
   "source": [
    "# MPS using the deesse wrapper - custom search neighborhood\n",
    "\n",
    "## Main points addressed:\n",
    "- setting custom search ellipsoid"
   ]
  },
  {
   "cell_type": "markdown",
   "metadata": {},
   "source": [
    "## Import what is required"
   ]
  },
  {
   "cell_type": "code",
   "execution_count": 1,
   "metadata": {},
   "outputs": [],
   "source": [
    "import numpy as np\n",
    "import matplotlib.pyplot as plt\n",
    "import time\n",
    "import os\n",
    "\n",
    "# import package 'geone'\n",
    "import geone as gn"
   ]
  },
  {
   "cell_type": "code",
   "execution_count": 2,
   "metadata": {},
   "outputs": [
    {
     "name": "stdout",
     "output_type": "stream",
     "text": [
      "sys.version_info(major=3, minor=10, micro=9, releaselevel='final', serial=0)\n",
      "geone version: 1.1.12\n"
     ]
    }
   ],
   "source": [
    "# Show version of python and version of geone\n",
    "import sys \n",
    "print(sys.version_info)\n",
    "print('geone version: ' + gn.__version__)"
   ]
  },
  {
   "cell_type": "markdown",
   "metadata": {},
   "source": [
    "## Training image (TI)"
   ]
  },
  {
   "cell_type": "code",
   "execution_count": 3,
   "metadata": {},
   "outputs": [
    {
     "data": {
      "text/plain": [
       "[0.0, 1.0, 2.0]"
      ]
     },
     "execution_count": 3,
     "metadata": {},
     "output_type": "execute_result"
    }
   ],
   "source": [
    "# Read file \n",
    "data_dir = 'data'\n",
    "filename = os.path.join(data_dir, 'ti.txt')\n",
    "ti = gn.img.readImageTxt(filename)\n",
    "\n",
    "# Values in the TI\n",
    "ti.get_unique()"
   ]
  },
  {
   "cell_type": "code",
   "execution_count": 4,
   "metadata": {},
   "outputs": [
    {
     "data": {
      "image/png": "[encoded data removed]",
      "text/plain": [
       "<Figure size 500x500 with 2 Axes>"
      ]
     },
     "metadata": {},
     "output_type": "display_data"
    }
   ],
   "source": [
    "# Setting for categories / colors\n",
    "categ_val = [0, 1, 2]\n",
    "categ_col = ['lightblue', 'darkgreen', 'orange']\n",
    "\n",
    "plt.figure(figsize=(5,5))\n",
    "gn.imgplot.drawImage2D(ti, categ=True, categVal=categ_val, categCol=categ_col, title='TI')\n",
    "plt.show()"
   ]
  },
  {
   "cell_type": "markdown",
   "metadata": {},
   "source": [
    "## Custom search ellipsoid \n",
    "### Class `geone.deesseinterface.SearchNeighborhoodParameters`\n",
    "To simulate a cell in the simulation grid, the pattern made up of (at most) the `nneighboringNode` informed cells the closest to the simulated cell is retrieved. Only the cells within a search ellipsoid centered at the simulated cell are considered. The search ellipsoid is defined by\n",
    "- `rx`, `ry`, `rz`: radii in each direction, in number of cells,\n",
    "- `ax`, `ay`, `az`: anisotropy ratios (or inverse units): the distance to the central node is the Euclidean distance with cell unit: `1/ax` by `1/ay` by `1/az`\n",
    "- `angle1`, `angle2`, `angle3`: azimuth, dip, and plunge angles in degrees (default:`0`, `0`, `0`) to re-orient the search ellipsoid\n",
    "- `power`: a power (default: `0`) at which the distance to the central cell is raised, to get the weight of the pattern cells\n",
    "\n",
    "Several modes are available to set the radii (`radiusMode`), in particular:\n",
    "- `large_default` (default): large radii automatically computed according to the size of the simulation grid and the TI\n",
    "- `manual`: the parameters `rx`, `ry`, `rz` are required (set manually)\n",
    "\n",
    "Several modes are available to set the anisotropy ratios (`anisotropyRatioMode`), in particular:\n",
    "- `one` (default): anisotropy ratios automatically set to `ax=ay=az=1.0`\n",
    "- `radius`: anisotropy ratios automatically set to the corresponding radius, `ax=rx`, `ay=ry`, `az=rz`, so that the distance on the border of the search ellipsoid is equal to one\n",
    "- `manual`: `ax`, `ay`, `az` are required (set manually)\n",
    "\n",
    "**Notes:** \n",
    "- It can be useful to limit the size of the search ellipsoid (by setting the radii) in presence of a small hard data set, in order to avoid realizations with too poor variability.\n",
    "- It can be useful to set the anisotropy ratios manually to preferentially search in some direction(s) when retrieving the pattern for simulating a cell."
   ]
  },
  {
   "cell_type": "markdown",
   "metadata": {},
   "source": [
    "### Examples using different search neigbhorhood ellipsoids"
   ]
  },
  {
   "cell_type": "markdown",
   "metadata": {},
   "source": [
    "#### Simulation with default search ellipsoid"
   ]
  },
  {
   "cell_type": "code",
   "execution_count": 5,
   "metadata": {},
   "outputs": [
    {
     "name": "stdout",
     "output_type": "stream",
     "text": [
      "DeeSse running... [VERSION 3.2 / BUILD NUMBER 20230411 / OpenMP 19 thread(s)]\n",
      "* checking out license OK.\n",
      "DeeSse run complete\n",
      "Elapsed time: 0.81 sec\n"
     ]
    }
   ],
   "source": [
    "# Default search ellipsoid\n",
    "deesse_input1 = gn.deesseinterface.DeesseInput(\n",
    "    nx=100, ny=100, nz=1,\n",
    "    nv=1, varname='code',\n",
    "    TI=ti,\n",
    "    distanceType='categorical',\n",
    "    nneighboringNode=24,\n",
    "    distanceThreshold=0.02,\n",
    "    maxScanFraction=0.25,\n",
    "    npostProcessingPathMax=1,\n",
    "    seed=444,\n",
    "    nrealization=1)\n",
    "\n",
    "# Run deesse\n",
    "t1 = time.time() # start time\n",
    "deesse_output1 = gn.deesseinterface.deesseRun(deesse_input1)\n",
    "t2 = time.time() # end time\n",
    "print(f'Elapsed time: {t2-t1:.2g} sec')"
   ]
  },
  {
   "cell_type": "markdown",
   "metadata": {},
   "source": [
    "#### Simulation with small search ellipsoid by setting the radii manually"
   ]
  },
  {
   "cell_type": "code",
   "execution_count": 6,
   "metadata": {},
   "outputs": [
    {
     "name": "stdout",
     "output_type": "stream",
     "text": [
      "DeeSse running... [VERSION 3.2 / BUILD NUMBER 20230411 / OpenMP 19 thread(s)]\n",
      "* checking out license OK.\n",
      "DeeSse run complete\n",
      "Elapsed time: 0.56 sec\n"
     ]
    }
   ],
   "source": [
    "# Search ellipsoid with small radii\n",
    "snp = gn.deesseinterface.SearchNeighborhoodParameters(\n",
    "    radiusMode='manual', rx=10, ry=10, rz=0\n",
    ")\n",
    "\n",
    "deesse_input2 = gn.deesseinterface.DeesseInput(\n",
    "    nx=100, ny=100, nz=1,\n",
    "    nv=1, varname='code',\n",
    "    TI=ti,\n",
    "    distanceType='categorical',\n",
    "    searchNeighborhoodParameters = snp, # set search neighborhood parameters (ellipsoid)\n",
    "    nneighboringNode=24,\n",
    "    distanceThreshold=0.02,\n",
    "    maxScanFraction=0.25,\n",
    "    npostProcessingPathMax=1,\n",
    "    seed=444,\n",
    "    nrealization=1)\n",
    "\n",
    "# Run deesse\n",
    "t1 = time.time() # start time\n",
    "deesse_output2 = gn.deesseinterface.deesseRun(deesse_input2)\n",
    "t2 = time.time() # end time\n",
    "print(f'Elapsed time: {t2-t1:.2g} sec')"
   ]
  },
  {
   "cell_type": "markdown",
   "metadata": {},
   "source": [
    "#### Simulation with anisotropic search ellipsoid (preferential search in one direction)"
   ]
  },
  {
   "cell_type": "code",
   "execution_count": 7,
   "metadata": {},
   "outputs": [
    {
     "name": "stdout",
     "output_type": "stream",
     "text": [
      "DeeSse running... [VERSION 3.2 / BUILD NUMBER 20230411 / OpenMP 19 thread(s)]\n",
      "* checking out license OK.\n",
      "DeeSse run complete\n",
      "Elapsed time: 0.18 sec\n"
     ]
    }
   ],
   "source": [
    "# Anisotropic search ellipsoid with preferential search in x-direction\n",
    "snp = gn.deesseinterface.SearchNeighborhoodParameters(\n",
    "    anisotropyRatioMode='manual', ax=20, ay=1, az=1\n",
    ")\n",
    "\n",
    "deesse_input3 = gn.deesseinterface.DeesseInput(\n",
    "    nx=100, ny=100, nz=1,\n",
    "    nv=1, varname='code',\n",
    "    TI=ti,\n",
    "    distanceType='categorical',\n",
    "    searchNeighborhoodParameters = snp, # set search neighborhood parameters (ellipsoid)\n",
    "    nneighboringNode=24,\n",
    "    distanceThreshold=0.02,\n",
    "    maxScanFraction=0.25,\n",
    "    npostProcessingPathMax=1,\n",
    "    seed=444,\n",
    "    nrealization=1)\n",
    "\n",
    "# Run deesse\n",
    "t1 = time.time() # start time\n",
    "deesse_output3 = gn.deesseinterface.deesseRun(deesse_input3)\n",
    "t2 = time.time() # end time\n",
    "print(f'Elapsed time: {t2-t1:.2g} sec')"
   ]
  },
  {
   "cell_type": "markdown",
   "metadata": {},
   "source": [
    "#### Results and display"
   ]
  },
  {
   "cell_type": "code",
   "execution_count": 9,
   "metadata": {},
   "outputs": [
    {
     "data": {
      "image/png": "[encoded data removed]",
      "text/plain": [
       "<Figure size 1700x500 with 6 Axes>"
      ]
     },
     "metadata": {},
     "output_type": "display_data"
    }
   ],
   "source": [
    "# Retrieve the realizations\n",
    "sim1 = deesse_output1['sim']\n",
    "sim2 = deesse_output2['sim']\n",
    "sim3 = deesse_output3['sim']\n",
    "\n",
    "# Display\n",
    "plt.subplots(1, 3, figsize=(17,5), sharey=True) # 1 x 3 sub-plots\n",
    "\n",
    "plt.subplot(1, 3, 1)\n",
    "gn.imgplot.drawImage2D(sim1[0], categ=True, categVal=categ_val, categCol=categ_col, \n",
    "                       title='Sim, default search ellipsoid')\n",
    "\n",
    "plt.subplot(1, 3, 2)\n",
    "gn.imgplot.drawImage2D(sim2[0], categ=True, categVal=categ_val, categCol=categ_col, \n",
    "                       title='Sim, small search ellipsoid')\n",
    "\n",
    "plt.subplot(1, 3, 3)\n",
    "gn.imgplot.drawImage2D(sim3[0], categ=True, categVal=categ_val, categCol=categ_col, \n",
    "                       title='Sim, anisotropic search ellipsoid')\n",
    "\n",
    "plt.show()"
   ]
  }
 ],
 "metadata": {
  "kernelspec": {
   "display_name": "Python 3 (ipykernel)",
   "language": "python",
   "name": "python3"
  },
  "language_info": {
   "codemirror_mode": {
    "name": "ipython",
    "version": 3
   },
   "file_extension": ".py",
   "mimetype": "text/x-python",
   "name": "python",
   "nbconvert_exporter": "python",
   "pygments_lexer": "ipython3",
   "version": "3.10.9"
  }
 },
 "nbformat": 4,
 "nbformat_minor": 2
}
